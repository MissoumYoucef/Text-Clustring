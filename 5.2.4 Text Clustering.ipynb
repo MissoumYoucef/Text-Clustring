{
 "cells": [
  {
   "cell_type": "code",
   "execution_count": 1,
   "metadata": {},
   "outputs": [],
   "source": [
    "import pandas as pd\n",
    "import numpy as np\n",
    "from sklearn.cluster import MiniBatchKMeans\n",
    "from sklearn.feature_extraction.text import TfidfVectorizer\n",
    "from sklearn.decomposition import PCA\n",
    "import matplotlib.pyplot as plt\n",
    "from sklearn.datasets import load_files"
   ]
  },
  {
   "cell_type": "code",
   "execution_count": 2,
   "metadata": {},
   "outputs": [],
   "source": [
    "DATA_DIR = \"bbc\\\\\"\n",
    "data = load_files(DATA_DIR, encoding=\"utf-8\", decode_error=\"replace\", random_state=1000)"
   ]
  },
  {
   "cell_type": "code",
   "execution_count": 3,
   "metadata": {},
   "outputs": [
    {
     "data": {
      "text/html": [
       "<div>\n",
       "<style scoped>\n",
       "    .dataframe tbody tr th:only-of-type {\n",
       "        vertical-align: middle;\n",
       "    }\n",
       "\n",
       "    .dataframe tbody tr th {\n",
       "        vertical-align: top;\n",
       "    }\n",
       "\n",
       "    .dataframe thead th {\n",
       "        text-align: right;\n",
       "    }\n",
       "</style>\n",
       "<table border=\"1\" class=\"dataframe\">\n",
       "  <thead>\n",
       "    <tr style=\"text-align: right;\">\n",
       "      <th></th>\n",
       "      <th>text</th>\n",
       "      <th>label</th>\n",
       "    </tr>\n",
       "  </thead>\n",
       "  <tbody>\n",
       "    <tr>\n",
       "      <th>0</th>\n",
       "      <td>News Corp eyes video games market\\n\\nNews Corp...</td>\n",
       "      <td>0</td>\n",
       "    </tr>\n",
       "    <tr>\n",
       "      <th>1</th>\n",
       "      <td>Wasps 31-37 Leicester\\n\\nLeicester withstood a...</td>\n",
       "      <td>3</td>\n",
       "    </tr>\n",
       "    <tr>\n",
       "      <th>2</th>\n",
       "      <td>Looks and music to drive mobiles\\n\\nMobile pho...</td>\n",
       "      <td>4</td>\n",
       "    </tr>\n",
       "    <tr>\n",
       "      <th>3</th>\n",
       "      <td>'Errors' doomed first Dome sale\\n\\nThe initial...</td>\n",
       "      <td>2</td>\n",
       "    </tr>\n",
       "    <tr>\n",
       "      <th>4</th>\n",
       "      <td>Sculthorpe wants Lions captaincy\\n\\nPaul Scult...</td>\n",
       "      <td>3</td>\n",
       "    </tr>\n",
       "    <tr>\n",
       "      <th>...</th>\n",
       "      <td>...</td>\n",
       "      <td>...</td>\n",
       "    </tr>\n",
       "    <tr>\n",
       "      <th>2220</th>\n",
       "      <td>Singer Christina Aguilera to wed\\n\\nPop star C...</td>\n",
       "      <td>1</td>\n",
       "    </tr>\n",
       "    <tr>\n",
       "      <th>2221</th>\n",
       "      <td>McIlroy wins 800m indoor title\\n\\nJames McIlro...</td>\n",
       "      <td>3</td>\n",
       "    </tr>\n",
       "    <tr>\n",
       "      <th>2222</th>\n",
       "      <td>Gadget market 'to grow in 2005'\\n\\nThe explosi...</td>\n",
       "      <td>4</td>\n",
       "    </tr>\n",
       "    <tr>\n",
       "      <th>2223</th>\n",
       "      <td>Berlin cheers for anti-Nazi film\\n\\nA German m...</td>\n",
       "      <td>1</td>\n",
       "    </tr>\n",
       "    <tr>\n",
       "      <th>2224</th>\n",
       "      <td>SFA awaits report over Mikoliunas\\n\\nThe Scott...</td>\n",
       "      <td>3</td>\n",
       "    </tr>\n",
       "  </tbody>\n",
       "</table>\n",
       "<p>2225 rows × 2 columns</p>\n",
       "</div>"
      ],
      "text/plain": [
       "                                                   text  label\n",
       "0     News Corp eyes video games market\\n\\nNews Corp...      0\n",
       "1     Wasps 31-37 Leicester\\n\\nLeicester withstood a...      3\n",
       "2     Looks and music to drive mobiles\\n\\nMobile pho...      4\n",
       "3     'Errors' doomed first Dome sale\\n\\nThe initial...      2\n",
       "4     Sculthorpe wants Lions captaincy\\n\\nPaul Scult...      3\n",
       "...                                                 ...    ...\n",
       "2220  Singer Christina Aguilera to wed\\n\\nPop star C...      1\n",
       "2221  McIlroy wins 800m indoor title\\n\\nJames McIlro...      3\n",
       "2222  Gadget market 'to grow in 2005'\\n\\nThe explosi...      4\n",
       "2223  Berlin cheers for anti-Nazi film\\n\\nA German m...      1\n",
       "2224  SFA awaits report over Mikoliunas\\n\\nThe Scott...      3\n",
       "\n",
       "[2225 rows x 2 columns]"
      ]
     },
     "execution_count": 3,
     "metadata": {},
     "output_type": "execute_result"
    }
   ],
   "source": [
    "# list(zip(data['data'], data['target'])): Combines the text content (data['data']) and corresponding labels (data['target']) into lists of tuples.\n",
    "# pd.DataFrame(...): Constructs a DataFrame, where each row represents a text document and its associated label.\n",
    "# columns=['text', 'label']: Assigns column names to the DataFrame\n",
    "df = pd.DataFrame(list(zip(data['data'], data['target'])), columns=['text', 'label'])\n",
    "df"
   ]
  },
  {
   "cell_type": "code",
   "execution_count": 4,
   "metadata": {},
   "outputs": [
    {
     "data": {
      "text/html": [
       "<div>\n",
       "<style scoped>\n",
       "    .dataframe tbody tr th:only-of-type {\n",
       "        vertical-align: middle;\n",
       "    }\n",
       "\n",
       "    .dataframe tbody tr th {\n",
       "        vertical-align: top;\n",
       "    }\n",
       "\n",
       "    .dataframe thead th {\n",
       "        text-align: right;\n",
       "    }\n",
       "</style>\n",
       "<table border=\"1\" class=\"dataframe\">\n",
       "  <thead>\n",
       "    <tr style=\"text-align: right;\">\n",
       "      <th></th>\n",
       "      <th>text</th>\n",
       "      <th>label</th>\n",
       "    </tr>\n",
       "  </thead>\n",
       "  <tbody>\n",
       "    <tr>\n",
       "      <th>0</th>\n",
       "      <td>News Corp eyes video games market\\n\\nNews Corp...</td>\n",
       "      <td>0</td>\n",
       "    </tr>\n",
       "    <tr>\n",
       "      <th>1</th>\n",
       "      <td>Wasps 31-37 Leicester\\n\\nLeicester withstood a...</td>\n",
       "      <td>3</td>\n",
       "    </tr>\n",
       "    <tr>\n",
       "      <th>2</th>\n",
       "      <td>Looks and music to drive mobiles\\n\\nMobile pho...</td>\n",
       "      <td>4</td>\n",
       "    </tr>\n",
       "    <tr>\n",
       "      <th>3</th>\n",
       "      <td>'Errors' doomed first Dome sale\\n\\nThe initial...</td>\n",
       "      <td>2</td>\n",
       "    </tr>\n",
       "    <tr>\n",
       "      <th>4</th>\n",
       "      <td>Sculthorpe wants Lions captaincy\\n\\nPaul Scult...</td>\n",
       "      <td>3</td>\n",
       "    </tr>\n",
       "    <tr>\n",
       "      <th>5</th>\n",
       "      <td>Mobile gaming takes off in India\\n\\nGaming on ...</td>\n",
       "      <td>4</td>\n",
       "    </tr>\n",
       "    <tr>\n",
       "      <th>6</th>\n",
       "      <td>Watchdog probes e-mail deletions\\n\\nThe inform...</td>\n",
       "      <td>2</td>\n",
       "    </tr>\n",
       "    <tr>\n",
       "      <th>7</th>\n",
       "      <td>Edwards tips Idowu for Euro gold\\n\\nWorld outd...</td>\n",
       "      <td>3</td>\n",
       "    </tr>\n",
       "    <tr>\n",
       "      <th>8</th>\n",
       "      <td>Parmar ruled out of Davis Cup tie\\n\\nA knee in...</td>\n",
       "      <td>3</td>\n",
       "    </tr>\n",
       "    <tr>\n",
       "      <th>9</th>\n",
       "      <td>World tour for top video gamers\\n\\nTwo UK game...</td>\n",
       "      <td>4</td>\n",
       "    </tr>\n",
       "    <tr>\n",
       "      <th>10</th>\n",
       "      <td>Strike threat over pension plans\\n\\nMillions o...</td>\n",
       "      <td>2</td>\n",
       "    </tr>\n",
       "    <tr>\n",
       "      <th>11</th>\n",
       "      <td>Gadget growth fuels eco concerns\\n\\nTechnology...</td>\n",
       "      <td>4</td>\n",
       "    </tr>\n",
       "    <tr>\n",
       "      <th>12</th>\n",
       "      <td>Pompeii gets digital make-over\\n\\nThe old-fash...</td>\n",
       "      <td>4</td>\n",
       "    </tr>\n",
       "    <tr>\n",
       "      <th>13</th>\n",
       "      <td>Ex-Boeing director gets jail term\\n\\nAn ex-chi...</td>\n",
       "      <td>0</td>\n",
       "    </tr>\n",
       "    <tr>\n",
       "      <th>14</th>\n",
       "      <td>Stars pay tribute to actor Davis\\n\\nHollywood ...</td>\n",
       "      <td>1</td>\n",
       "    </tr>\n",
       "    <tr>\n",
       "      <th>15</th>\n",
       "      <td>Taylor poised for Scotland return\\n\\nSimon Tay...</td>\n",
       "      <td>3</td>\n",
       "    </tr>\n",
       "    <tr>\n",
       "      <th>16</th>\n",
       "      <td>File-swappers ready new network\\n\\nLegal attac...</td>\n",
       "      <td>4</td>\n",
       "    </tr>\n",
       "    <tr>\n",
       "      <th>17</th>\n",
       "      <td>Labour MP praises Tory campaign\\n\\nThe Conserv...</td>\n",
       "      <td>2</td>\n",
       "    </tr>\n",
       "    <tr>\n",
       "      <th>18</th>\n",
       "      <td>Qantas considers offshore option\\n\\nAustralian...</td>\n",
       "      <td>0</td>\n",
       "    </tr>\n",
       "    <tr>\n",
       "      <th>19</th>\n",
       "      <td>UK pledges £1bn to vaccine effort\\n\\nUK Chance...</td>\n",
       "      <td>2</td>\n",
       "    </tr>\n",
       "    <tr>\n",
       "      <th>20</th>\n",
       "      <td>Vickery upbeat about arm injury\\n\\nEngland pro...</td>\n",
       "      <td>3</td>\n",
       "    </tr>\n",
       "    <tr>\n",
       "      <th>21</th>\n",
       "      <td>Mobile networks seek turbo boost\\n\\nThird-gene...</td>\n",
       "      <td>4</td>\n",
       "    </tr>\n",
       "    <tr>\n",
       "      <th>22</th>\n",
       "      <td>Isinbayeva heads for Birmingham\\n\\nOlympic pol...</td>\n",
       "      <td>3</td>\n",
       "    </tr>\n",
       "    <tr>\n",
       "      <th>23</th>\n",
       "      <td>Uefa approves fake grass\\n\\nUefa says it will ...</td>\n",
       "      <td>3</td>\n",
       "    </tr>\n",
       "    <tr>\n",
       "      <th>24</th>\n",
       "      <td>Johnson too strong for GB runners\\n\\nBritain's...</td>\n",
       "      <td>3</td>\n",
       "    </tr>\n",
       "    <tr>\n",
       "      <th>25</th>\n",
       "      <td>Boateng to step down at election\\n\\nPaul Boate...</td>\n",
       "      <td>2</td>\n",
       "    </tr>\n",
       "    <tr>\n",
       "      <th>26</th>\n",
       "      <td>UK gets official virus alert site\\n\\nA rapid a...</td>\n",
       "      <td>4</td>\n",
       "    </tr>\n",
       "    <tr>\n",
       "      <th>27</th>\n",
       "      <td>Italy to get economic action plan\\n\\nItalian P...</td>\n",
       "      <td>0</td>\n",
       "    </tr>\n",
       "    <tr>\n",
       "      <th>28</th>\n",
       "      <td>Rapper Snoop Dogg sued for 'rape'\\n\\nUS rapper...</td>\n",
       "      <td>1</td>\n",
       "    </tr>\n",
       "    <tr>\n",
       "      <th>29</th>\n",
       "      <td>US peer-to-peer pirates convicted\\n\\nThe first...</td>\n",
       "      <td>4</td>\n",
       "    </tr>\n",
       "  </tbody>\n",
       "</table>\n",
       "</div>"
      ],
      "text/plain": [
       "                                                 text  label\n",
       "0   News Corp eyes video games market\\n\\nNews Corp...      0\n",
       "1   Wasps 31-37 Leicester\\n\\nLeicester withstood a...      3\n",
       "2   Looks and music to drive mobiles\\n\\nMobile pho...      4\n",
       "3   'Errors' doomed first Dome sale\\n\\nThe initial...      2\n",
       "4   Sculthorpe wants Lions captaincy\\n\\nPaul Scult...      3\n",
       "5   Mobile gaming takes off in India\\n\\nGaming on ...      4\n",
       "6   Watchdog probes e-mail deletions\\n\\nThe inform...      2\n",
       "7   Edwards tips Idowu for Euro gold\\n\\nWorld outd...      3\n",
       "8   Parmar ruled out of Davis Cup tie\\n\\nA knee in...      3\n",
       "9   World tour for top video gamers\\n\\nTwo UK game...      4\n",
       "10  Strike threat over pension plans\\n\\nMillions o...      2\n",
       "11  Gadget growth fuels eco concerns\\n\\nTechnology...      4\n",
       "12  Pompeii gets digital make-over\\n\\nThe old-fash...      4\n",
       "13  Ex-Boeing director gets jail term\\n\\nAn ex-chi...      0\n",
       "14  Stars pay tribute to actor Davis\\n\\nHollywood ...      1\n",
       "15  Taylor poised for Scotland return\\n\\nSimon Tay...      3\n",
       "16  File-swappers ready new network\\n\\nLegal attac...      4\n",
       "17  Labour MP praises Tory campaign\\n\\nThe Conserv...      2\n",
       "18  Qantas considers offshore option\\n\\nAustralian...      0\n",
       "19  UK pledges £1bn to vaccine effort\\n\\nUK Chance...      2\n",
       "20  Vickery upbeat about arm injury\\n\\nEngland pro...      3\n",
       "21  Mobile networks seek turbo boost\\n\\nThird-gene...      4\n",
       "22  Isinbayeva heads for Birmingham\\n\\nOlympic pol...      3\n",
       "23  Uefa approves fake grass\\n\\nUefa says it will ...      3\n",
       "24  Johnson too strong for GB runners\\n\\nBritain's...      3\n",
       "25  Boateng to step down at election\\n\\nPaul Boate...      2\n",
       "26  UK gets official virus alert site\\n\\nA rapid a...      4\n",
       "27  Italy to get economic action plan\\n\\nItalian P...      0\n",
       "28  Rapper Snoop Dogg sued for 'rape'\\n\\nUS rapper...      1\n",
       "29  US peer-to-peer pirates convicted\\n\\nThe first...      4"
      ]
     },
     "execution_count": 4,
     "metadata": {},
     "output_type": "execute_result"
    }
   ],
   "source": [
    "df.head(30)"
   ]
  },
  {
   "cell_type": "code",
   "execution_count": 5,
   "metadata": {},
   "outputs": [
    {
     "data": {
      "text/html": [
       "<div>\n",
       "<style scoped>\n",
       "    .dataframe tbody tr th:only-of-type {\n",
       "        vertical-align: middle;\n",
       "    }\n",
       "\n",
       "    .dataframe tbody tr th {\n",
       "        vertical-align: top;\n",
       "    }\n",
       "\n",
       "    .dataframe thead th {\n",
       "        text-align: right;\n",
       "    }\n",
       "</style>\n",
       "<table border=\"1\" class=\"dataframe\">\n",
       "  <thead>\n",
       "    <tr style=\"text-align: right;\">\n",
       "      <th></th>\n",
       "      <th>text</th>\n",
       "      <th>label</th>\n",
       "    </tr>\n",
       "  </thead>\n",
       "  <tbody>\n",
       "    <tr>\n",
       "      <th>3</th>\n",
       "      <td>'Errors' doomed first Dome sale\\n\\nThe initial...</td>\n",
       "      <td>2</td>\n",
       "    </tr>\n",
       "    <tr>\n",
       "      <th>6</th>\n",
       "      <td>Watchdog probes e-mail deletions\\n\\nThe inform...</td>\n",
       "      <td>2</td>\n",
       "    </tr>\n",
       "    <tr>\n",
       "      <th>10</th>\n",
       "      <td>Strike threat over pension plans\\n\\nMillions o...</td>\n",
       "      <td>2</td>\n",
       "    </tr>\n",
       "    <tr>\n",
       "      <th>17</th>\n",
       "      <td>Labour MP praises Tory campaign\\n\\nThe Conserv...</td>\n",
       "      <td>2</td>\n",
       "    </tr>\n",
       "    <tr>\n",
       "      <th>19</th>\n",
       "      <td>UK pledges £1bn to vaccine effort\\n\\nUK Chance...</td>\n",
       "      <td>2</td>\n",
       "    </tr>\n",
       "    <tr>\n",
       "      <th>25</th>\n",
       "      <td>Boateng to step down at election\\n\\nPaul Boate...</td>\n",
       "      <td>2</td>\n",
       "    </tr>\n",
       "    <tr>\n",
       "      <th>33</th>\n",
       "      <td>Muslims discuss election concerns\\n\\nIssues th...</td>\n",
       "      <td>2</td>\n",
       "    </tr>\n",
       "    <tr>\n",
       "      <th>34</th>\n",
       "      <td>Nat Insurance to rise, say Tories\\n\\nNational ...</td>\n",
       "      <td>2</td>\n",
       "    </tr>\n",
       "    <tr>\n",
       "      <th>36</th>\n",
       "      <td>Parties' plans for council tax\\n\\nAnger at cou...</td>\n",
       "      <td>2</td>\n",
       "    </tr>\n",
       "    <tr>\n",
       "      <th>37</th>\n",
       "      <td>Hospital suspends 'no Welsh' plan\\n\\nAn Englis...</td>\n",
       "      <td>2</td>\n",
       "    </tr>\n",
       "    <tr>\n",
       "      <th>41</th>\n",
       "      <td>Kilroy names election seat target\\n\\nEx-chat s...</td>\n",
       "      <td>2</td>\n",
       "    </tr>\n",
       "    <tr>\n",
       "      <th>42</th>\n",
       "      <td>UKIP could sue Veritas defectors\\n\\nThe UK Ind...</td>\n",
       "      <td>2</td>\n",
       "    </tr>\n",
       "    <tr>\n",
       "      <th>53</th>\n",
       "      <td>England children's tsar appointed\\n\\nThe first...</td>\n",
       "      <td>2</td>\n",
       "    </tr>\n",
       "    <tr>\n",
       "      <th>60</th>\n",
       "      <td>Civil servants in strike ballot\\n\\nThe UK's bi...</td>\n",
       "      <td>2</td>\n",
       "    </tr>\n",
       "    <tr>\n",
       "      <th>73</th>\n",
       "      <td>Anglers 'could face prosecution'\\n\\nAnglers an...</td>\n",
       "      <td>2</td>\n",
       "    </tr>\n",
       "    <tr>\n",
       "      <th>80</th>\n",
       "      <td>Howard taunts Blair over splits\\n\\nTony Blair'...</td>\n",
       "      <td>2</td>\n",
       "    </tr>\n",
       "    <tr>\n",
       "      <th>82</th>\n",
       "      <td>Blair says mayor should apologise\\n\\nTony Blai...</td>\n",
       "      <td>2</td>\n",
       "    </tr>\n",
       "    <tr>\n",
       "      <th>86</th>\n",
       "      <td>Security papers 'found in street'\\n\\nAn inquir...</td>\n",
       "      <td>2</td>\n",
       "    </tr>\n",
       "    <tr>\n",
       "      <th>88</th>\n",
       "      <td>Labour plans maternity pay rise\\n\\nMaternity p...</td>\n",
       "      <td>2</td>\n",
       "    </tr>\n",
       "    <tr>\n",
       "      <th>95</th>\n",
       "      <td>Wales 'must learn health lessons'\\n\\nThe new h...</td>\n",
       "      <td>2</td>\n",
       "    </tr>\n",
       "    <tr>\n",
       "      <th>111</th>\n",
       "      <td>MP's shock at long lost daughter\\n\\nLabour MP ...</td>\n",
       "      <td>2</td>\n",
       "    </tr>\n",
       "    <tr>\n",
       "      <th>115</th>\n",
       "      <td>Baron Kinnock makes Lords debut\\n\\nFormer Labo...</td>\n",
       "      <td>2</td>\n",
       "    </tr>\n",
       "    <tr>\n",
       "      <th>116</th>\n",
       "      <td>Fox attacks Blair's Tory 'lies'\\n\\nTony Blair ...</td>\n",
       "      <td>2</td>\n",
       "    </tr>\n",
       "    <tr>\n",
       "      <th>120</th>\n",
       "      <td>Mallon wades into NE vote battle\\n\\nMiddlesbro...</td>\n",
       "      <td>2</td>\n",
       "    </tr>\n",
       "    <tr>\n",
       "      <th>131</th>\n",
       "      <td>'Super union' merger plan touted\\n\\nTwo of Bri...</td>\n",
       "      <td>2</td>\n",
       "    </tr>\n",
       "    <tr>\n",
       "      <th>132</th>\n",
       "      <td>Fox attacks Blair's Tory 'lies'\\n\\nTony Blair ...</td>\n",
       "      <td>2</td>\n",
       "    </tr>\n",
       "    <tr>\n",
       "      <th>133</th>\n",
       "      <td>Report attacks defence spending\\n\\nThe Ministr...</td>\n",
       "      <td>2</td>\n",
       "    </tr>\n",
       "    <tr>\n",
       "      <th>152</th>\n",
       "      <td>Galloway plea for hostage release\\n\\nEx-Labour...</td>\n",
       "      <td>2</td>\n",
       "    </tr>\n",
       "    <tr>\n",
       "      <th>156</th>\n",
       "      <td>Hague 'given up' his PM ambition\\n\\nFormer Con...</td>\n",
       "      <td>2</td>\n",
       "    </tr>\n",
       "    <tr>\n",
       "      <th>157</th>\n",
       "      <td>New UKIP defection to 'Veritas'\\n\\nThe UK Inde...</td>\n",
       "      <td>2</td>\n",
       "    </tr>\n",
       "  </tbody>\n",
       "</table>\n",
       "</div>"
      ],
      "text/plain": [
       "                                                  text  label\n",
       "3    'Errors' doomed first Dome sale\\n\\nThe initial...      2\n",
       "6    Watchdog probes e-mail deletions\\n\\nThe inform...      2\n",
       "10   Strike threat over pension plans\\n\\nMillions o...      2\n",
       "17   Labour MP praises Tory campaign\\n\\nThe Conserv...      2\n",
       "19   UK pledges £1bn to vaccine effort\\n\\nUK Chance...      2\n",
       "25   Boateng to step down at election\\n\\nPaul Boate...      2\n",
       "33   Muslims discuss election concerns\\n\\nIssues th...      2\n",
       "34   Nat Insurance to rise, say Tories\\n\\nNational ...      2\n",
       "36   Parties' plans for council tax\\n\\nAnger at cou...      2\n",
       "37   Hospital suspends 'no Welsh' plan\\n\\nAn Englis...      2\n",
       "41   Kilroy names election seat target\\n\\nEx-chat s...      2\n",
       "42   UKIP could sue Veritas defectors\\n\\nThe UK Ind...      2\n",
       "53   England children's tsar appointed\\n\\nThe first...      2\n",
       "60   Civil servants in strike ballot\\n\\nThe UK's bi...      2\n",
       "73   Anglers 'could face prosecution'\\n\\nAnglers an...      2\n",
       "80   Howard taunts Blair over splits\\n\\nTony Blair'...      2\n",
       "82   Blair says mayor should apologise\\n\\nTony Blai...      2\n",
       "86   Security papers 'found in street'\\n\\nAn inquir...      2\n",
       "88   Labour plans maternity pay rise\\n\\nMaternity p...      2\n",
       "95   Wales 'must learn health lessons'\\n\\nThe new h...      2\n",
       "111  MP's shock at long lost daughter\\n\\nLabour MP ...      2\n",
       "115  Baron Kinnock makes Lords debut\\n\\nFormer Labo...      2\n",
       "116  Fox attacks Blair's Tory 'lies'\\n\\nTony Blair ...      2\n",
       "120  Mallon wades into NE vote battle\\n\\nMiddlesbro...      2\n",
       "131  'Super union' merger plan touted\\n\\nTwo of Bri...      2\n",
       "132  Fox attacks Blair's Tory 'lies'\\n\\nTony Blair ...      2\n",
       "133  Report attacks defence spending\\n\\nThe Ministr...      2\n",
       "152  Galloway plea for hostage release\\n\\nEx-Labour...      2\n",
       "156  Hague 'given up' his PM ambition\\n\\nFormer Con...      2\n",
       "157  New UKIP defection to 'Veritas'\\n\\nThe UK Inde...      2"
      ]
     },
     "execution_count": 5,
     "metadata": {},
     "output_type": "execute_result"
    }
   ],
   "source": [
    "df[df['label']==2].head(30)"
   ]
  },
  {
   "cell_type": "code",
   "execution_count": 6,
   "metadata": {},
   "outputs": [
    {
     "data": {
      "text/plain": [
       "label\n",
       "3    511\n",
       "0    510\n",
       "2    417\n",
       "4    401\n",
       "1    386\n",
       "Name: count, dtype: int64"
      ]
     },
     "execution_count": 6,
     "metadata": {},
     "output_type": "execute_result"
    }
   ],
   "source": [
    "df['label'].value_counts()"
   ]
  },
  {
   "cell_type": "code",
   "execution_count": 7,
   "metadata": {},
   "outputs": [
    {
     "data": {
      "text/plain": [
       "array(['News Corp eyes video games market\\n\\nNews Corp, the media company controlled by Australian billionaire Rupert Murdoch, is eyeing a move into the video games market.\\n\\nAccording to the Financial Times, chief operating officer Peter Chernin said that News Corp is \"kicking the tires of pretty much all video games companies\". Santa Monica-based Activison is said to be one firm on its takeover list. Video games are \"big business\", the paper quoted Mr Chernin as saying. We \"would like to get into it\".\\n\\nThe success of products such as Sony\\'s Playstation, Microsoft\\'s X-Box and Nintendo\\'s Game Cube have boosted demand for video games.\\n\\nThe days of arcade classics such as Space Invaders, Pac-Man and Donkey Kong are long gone. Today, games often have budgets big enough for feature films and look to give gamers as real an experience as possible. And with their price tags reflecting the heavy investment by development companies, video games are proving almost as profitable as they are fun. Mr Chernin, however, told the FT that News Corp was finding it difficult to identify a suitable target. \"We are struggling with the gap between companies like Electronic Arts, which comes with a high price tag, and the next tier of companies,\" he explained during a conference in Phoenix, Arizona. \"These may be too focused on one or two product lines.\"\\n',\n",
       "       'Wasps 31-37 Leicester\\n\\nLeicester withstood a stunning Wasps comeback to win a pulsating Heineken Cup encounter at the Causeway Stadium.\\n\\nThe Tigers stormed 22-6 ahead within 18 minutes through tries from Lewis Moody, Geordan Murphy and Martin Corry. European champions Wasps fought back through a Josh Lewsey try and Mark van Gisbergen\\'s boot, and they were level at 31-31 with five minutes remaining. But it was the visitors who kept their cool as Andy Goode kicked the Tigers to victory with a penalty and a drop goal. The closing moments saw desperate defence from Leicester as Wasps turned down several penalties to go for the try they needed. Wasps pounded the line and a penalty try looked likely before referee Nigel Williams controversially blew for full-time. Fly-half Goode was the Tigers hero, kicking 22 points in total, while Leicester\\'s overwhelming domination in the scrums ultimately told. Even their lack of discipline in defence - which presented the admirable Van Ginsberg with 26 points - could not undo them as they held out for a famous win.\\n\\nLawrence Dallaglio\\'s team have now got it all to do in the quest for a quarter-final place given that two of their last three games are away - against Leicester and Biarritz. However, Wasps rugby director Warren Gatland warned his side will will not relinquish their European title without a fight. \"If we lose next week, then we are struggling,\" said Gatland. \"But we don\\'t want to give this trophy away. We worked so hard to win it last season, we will go down fighting. \"We have got to get our scrum right next week, it is the biggest cause for concern.\" Leicester coach John Wells saluted the outstanding work of Graham Rowntree and Julian White, who were magnificent up front. \"They were the backbone of our performance today,\" said Wells. \"And to score three tries against the European champions at home was also something I am pleased about.\"\\n\\nVan Gisbergen; Lewsey, Erinle, Abbott, Voyce; King, Dawson; Dowd, Greening, Green; Shaw, Birkett; Worsley, O\\'Connor, Dallaglio (capt).\\n\\nReplacements: Gotting, McKenzie, Lock, Hart, Biljon, Brooks, Hoadley.\\n\\nMurphy; Rabeni, Smith, Gibson, Healey; Goode, Ellis; Rowntree, Chuter, White, M Johnson (capt), L Deacon; Moody, Back, Corry.\\n\\nReplacements (from): Buckland/Cockerill, Morris, Kay, W Johnson/B Deacon, H Tuilagi, Bemand, A Tuiliagi, Lloyd, Vesty.\\n',\n",
       "       'Looks and music to drive mobiles\\n\\nMobile phones are still enjoying a boom time in sales, according to research from technology analysts Gartner.\\n\\nMore than 674 million mobiles were sold last year globally, said the report, the highest total sold to date. The figure was 30% more than in 2003 and surpassed even the most optimistic predictions, Gartner said. Good design and the look of a mobile, as well as new services such as music downloads, could go some way to pushing up sales in 2005, said analysts. Although people were still looking for better replacement phones, there was evidence, according to Gartner, that some markets were seeing a slow-down in replacement sales.\\n\\n\"All the markets grew apart from Japan which shows that replacement sales are continuing in western Europe,\" mobile analyst Carolina Milanesi told the BBC News website. \"Japan is where north America and western European markets can be in a couple of years\\' time. \"They already have TV, music, ringtones, cameras, and all that we can think of on mobiles, so people have stopped buying replacement phones.\"\\n\\nBut there could be a slight slowdown in sales in European and US markets too, according to Gartner, as people wait to see what comes next in mobile technology. This means mobile companies have to think carefully about what they are offering in new models so that people see a compelling reason to upgrade, said Gartner. Third generation mobiles (3G) with the ability to handle large amounts of data transfer, like video, could drive people into upgrading their phones, but Ms Milanesi said it was difficult to say how quickly that would happen. \"At the end of the day, people have cameras and colour screens on mobiles and for the majority of people out there who don\\'t really care about technology the speed of data to a phone is not critical.\" Nor would the rush to produce two or three megapixel camera phones be a reason for mobile owners to upgrade on its own. The majority of camera phone models are not at the stage where they can compete with digital cameras which also have flashes and zooms.\\n\\nMore likely to drive sales in 2005 would be the attention to design and aesthetics, as well as music services. The Motorola Razr V3 phone was typical of the attention to design that would be more commonplace in 2005, she added. This was not a \"women\\'s thing\", she said, but a desire from men and women to have a gadget that is a form of self-expression too. It was not just about how the phone functioned, but about what it said about its owner. \"Western Europe has always been a market which is quite attentive to design,\" said Ms Milanesi.\\n\\n\"People are after something that is nice-looking, and together with that, there is the entertainment side. \"This year music will have a part to play in this.\" The market for full-track music downloads was worth just $20 million (£10.5 million) in 2004, but is set to be worth $1.8 billion (£94 million) by 2009, according to Juniper Research. Sony Ericsson just released its Walkman branded mobile phone, the W800, which combines a digital music player with up to 30 hours\\' battery life, and a two megapixel camera. In July last year, Motorola and Apple announced a version of iTunes online music downloading service would be released which would be compatible with Motorola mobile phones. Apple said the new iTunes music player would become Motorola\\'s standard music application for its music phones. But the challenge will be balancing storage capacity with battery life if mobile music hopes to compete with digital music players like the iPod. Ms Milanesi said more models would likely be released in the coming year with hard drives. But they would be more likely to compete with the smaller capacity music players that have around four gigabyte storage capacity, which would not put too much strain on battery life.\\n',\n",
       "       ...,\n",
       "       'Gadget market \\'to grow in 2005\\'\\n\\nThe explosion in consumer technology is to continue into 2005, delegates at the world\\'s largest gadget show, in Las Vegas, have been told.\\n\\nThe number of gadgets in the shops is predicted to grow by 11%, while devices which talk to each other will become increasingly important. \"Everything is going digital,\" Kirsten Pfeifer from the Consumer Electronics Association, told the BBC News website. The Consumer Electronics Show (CES) featured the pick of 2005\\'s products. \"Consumers are controlling what they want and technologies like HDTVs [high-definition TVs], digital radio, and digital cameras will remain strong in 2005. \"All the products on show really showed the breadth and depth of the industry.\" Despite showing diversity, some delegates attending complained that the showcase lacked as much \"wow factor\" as in previous years.\\n\\nThe portable technologies on show also reflected one of the buzzwords of CES, which was the \"time and place shifting\" of multimedia content - being able to watch and listen to video and music anywhere, at any time. At the start of last year\\'s CES, the CEA predicted there would be an average growth of 4% in 2004. That figure was surpassed with the rise in popularity of portable digital music players, personal video recorders and digital cameras. It was clear also that gadgets are becoming a lot more about lifestyle choice, with fashion and personalisation becoming increasingly key to the way gadgets are designed. Part of this has been the rise in spending power of the \"generation X-ers\" who have grown up with technology and who now have the spending power and desire for more devices that suit them. More than 57% of the consumer electronics market is made up of female buyers, according to CEA research. Hybrid devices, which combine a number of multimedia functions, were also in evidence on the show floor. \"A lot of this is driven by just the ability to do it,\" said Stephen Baker, a consumer electronics analyst with retail research firm NPD Group. \"Some of these functions cost next to nothing to add.\"\\n\\nAs well as the show floor showcasing everything from tiny wearable MP3 players to giant high-definition TVs, several keynote speeches were made by industry leaders, such as Microsoft chief Bill Gates. Despite several embarrassing technical glitches during Mr Gate\\'s pre-show speech, he announced several new partnerships - mainly for the US market. He unveiled new ways of letting people take TV shows recorded on personal video recorders and watch them back on portable devices. He disappointed some, however, by failing to announce any details of the next generation of the Xbox games console. Another disappointment was the lack of exposure Sony\\'s new portable games device, the PSP, had at the show. Sony said the much-anticipated gadget would most likely start shipping in March for the US and Europe. It went on sale in Japan before Christmas. There were only two PSPs embedded in glass cabinets at the show though and no representatives to discuss further details. A Sony representative told the BBC News website this was because Sony did not consider it to be part of their \"consumer technology\" offering.\\n\\nElsewhere at the show, there was a plethora of colour and plasma screens, including Samsung\\'s 102-inch (2.6 metre) plasma - the largest in the world. Industry experts were also excited about high-definition technologies coming to the fore in 2005, with new formats for DVDs coming out which will hold six times as much data as conventional DVDs. With so many devices on the move there were a lot of products on show offering external storage, like Seagate\\'s 5GB pocket sized external hard drive, which won an innovation for engineering and design prize. More than 120,000 trade professionals attended CES in Las Vegas, which officially ran from 6 to 9 January.\\n',\n",
       "       'Berlin cheers for anti-Nazi film\\n\\nA German movie about an anti-Nazi resistance heroine has drawn loud applause at Berlin Film Festival.\\n\\nSophie Scholl - The Final Days portrays the final days of the member of the White Rose movement. Scholl, 21, was arrested and beheaded with her brother, Hans, in 1943 for distributing leaflets condemning the \"abhorrent tyranny\" of Adolf Hitler. Director Marc Rothemund said: \"I have a feeling of responsibility to keep the legacy of the Scholls going.\" \"We must somehow keep their ideas alive,\" he added.\\n\\nThe film drew on transcripts of Gestapo interrogations and Scholl\\'s trial preserved in the archive of communist East Germany\\'s secret police. Their discovery was the inspiration behind the film for Rothemund, who worked closely with surviving relatives, including one of Scholl\\'s sisters, to ensure historical accuracy on the film. Scholl and other members of the White Rose resistance group first started distributing anti-Nazi leaflets in the summer of 1942. They were arrested as they dropped leaflets at Munich University calling for a \"day of reckoning\" with Adolf Hitler\\'s regime. The film focuses on the six days from Scholl\\'s arrest to the intense trial which saw Scholl initially deny the charges and ended with a defiant appearance. It is one of three German films vying for a top prize at the Festival.\\n\\nA South African film version of Bizet\\'s tragic opera Carmen shot in Cape Town in the Xhosa language has also premiered at the Berlin Festival. The film is entitled U-Carmen eKhayelitsha or Carmen in Khayelitsha after the township in which the story is set. It is performed by a 40-strong music and theatre troupe in their debut film performance. The film is the first South African feature in 25 years and only the second to be nominated for a Golden Bear Award.\\n',\n",
       "       'SFA awaits report over Mikoliunas\\n\\nThe Scottish Football Association is awaiting referee Hugh Dallas\\'s report before acting against Hearts winger Saulius Mikoliunas.\\n\\nMikoliunas, 20, barged linesman Andy Davis, who had advised Dallas to award Rangers an injury-time penalty in Hearts\\'s 2-1 defeat at Tynecastle. \"He was sent off for violent conduct in the 90th minute but we don\\'t know if he did something else after the whistle. \"We don\\'t know how many red cards he was shown,\" said an SFA statement. Hearts could also face action after three fans were arrested for throwing coins on the pitch. Rangers\\' striker Dad Prso was also sent off during the same incident when he received a second yellow card for wrestling the ball away from Craig Gordon and leaving the Hearts keeper on the ground. The SFA said: \"Once the referee\\'s report comes in then we\\'ll immediately look at things.\\n\\n\"We don\\'t normally get the reports until a couple of days after the game but we\\'re well aware of what happened here. \"Prso was sent off for two cautions, and that will just be a one-match suspension.\" The SFA is certain to come down hard on Mikoliunas after Southampton\\'s David Prutton was banned for 10-games on Wednesday by the English FA for shoving referee Alan Wiley. Hearts\\' boss John Robertson said: \"Mikoliunas has thrown his chest against the assistant referee\\'s chest and got a red card for it. \"The officials have got to take into account the fact he\\'s a young lad. \"But people have got to take into account why he was incensed. Why were 10,000 Hearts fans incensed? \"Why did nobody from the Rangers\\' bench claim for a penalty kick?\" Rangers\\' boss Alex McLeish accepted referee Dallas had no option but to send Prso off. McLeish said: \"I\\'m glad to see the spirit of the players fighting to the very end - literally with Dado trying to get the ball back from Craig Gordon. \"But it was over-zealousness and I don\\'t think Hugh had any option.\"\\n'],\n",
       "      dtype=object)"
      ]
     },
     "execution_count": 7,
     "metadata": {},
     "output_type": "execute_result"
    }
   ],
   "source": [
    "df.text.values"
   ]
  },
  {
   "cell_type": "code",
   "execution_count": 8,
   "metadata": {},
   "outputs": [],
   "source": [
    "vec = TfidfVectorizer(stop_words=\"english\")\n",
    "vec.fit(df.text.values)\n",
    "features = vec.transform(df.text.values)"
   ]
  },
  {
   "cell_type": "code",
   "execution_count": 9,
   "metadata": {},
   "outputs": [
    {
     "data": {
      "text/plain": [
       "29126"
      ]
     },
     "execution_count": 9,
     "metadata": {},
     "output_type": "execute_result"
    }
   ],
   "source": [
    "len(vec.get_feature_names_out())"
   ]
  },
  {
   "cell_type": "code",
   "execution_count": 10,
   "metadata": {},
   "outputs": [
    {
     "data": {
      "text/plain": [
       "(2225, 29126)"
      ]
     },
     "execution_count": 10,
     "metadata": {},
     "output_type": "execute_result"
    }
   ],
   "source": [
    "features.shape"
   ]
  },
  {
   "cell_type": "code",
   "execution_count": 11,
   "metadata": {},
   "outputs": [
    {
     "data": {
      "text/plain": [
       "array([[0.        , 0.        , 0.        , ..., 0.        , 0.        ,\n",
       "        0.        ],\n",
       "       [0.        , 0.        , 0.        , ..., 0.        , 0.        ,\n",
       "        0.        ],\n",
       "       [0.        , 0.        , 0.        , ..., 0.        , 0.        ,\n",
       "        0.        ],\n",
       "       ...,\n",
       "       [0.        , 0.02280016, 0.        , ..., 0.        , 0.        ,\n",
       "        0.        ],\n",
       "       [0.        , 0.        , 0.        , ..., 0.        , 0.        ,\n",
       "        0.        ],\n",
       "       [0.        , 0.02459015, 0.        , ..., 0.        , 0.        ,\n",
       "        0.        ]])"
      ]
     },
     "execution_count": 11,
     "metadata": {},
     "output_type": "execute_result"
    }
   ],
   "source": [
    "features.toarray()"
   ]
  },
  {
   "cell_type": "code",
   "execution_count": 12,
   "metadata": {},
   "outputs": [
    {
     "data": {
      "text/plain": [
       "(2225, 29126)"
      ]
     },
     "execution_count": 12,
     "metadata": {},
     "output_type": "execute_result"
    }
   ],
   "source": [
    "len(features.toarray()) , len(features.toarray()[0]) "
   ]
  },
  {
   "cell_type": "code",
   "execution_count": 14,
   "metadata": {},
   "outputs": [
    {
     "name": "stderr",
     "output_type": "stream",
     "text": [
      "c:\\Users\\misso\\AppData\\Local\\Programs\\Python\\Python311\\Lib\\site-packages\\sklearn\\cluster\\_kmeans.py:1930: FutureWarning: The default value of `n_init` will change from 3 to 'auto' in 1.4. Set the value of `n_init` explicitly to suppress the warning\n",
      "  super()._check_params_vs_input(X, default_n_init=3)\n"
     ]
    },
    {
     "data": {
      "text/html": [
       "<style>#sk-container-id-1 {color: black;}#sk-container-id-1 pre{padding: 0;}#sk-container-id-1 div.sk-toggleable {background-color: white;}#sk-container-id-1 label.sk-toggleable__label {cursor: pointer;display: block;width: 100%;margin-bottom: 0;padding: 0.3em;box-sizing: border-box;text-align: center;}#sk-container-id-1 label.sk-toggleable__label-arrow:before {content: \"▸\";float: left;margin-right: 0.25em;color: #696969;}#sk-container-id-1 label.sk-toggleable__label-arrow:hover:before {color: black;}#sk-container-id-1 div.sk-estimator:hover label.sk-toggleable__label-arrow:before {color: black;}#sk-container-id-1 div.sk-toggleable__content {max-height: 0;max-width: 0;overflow: hidden;text-align: left;background-color: #f0f8ff;}#sk-container-id-1 div.sk-toggleable__content pre {margin: 0.2em;color: black;border-radius: 0.25em;background-color: #f0f8ff;}#sk-container-id-1 input.sk-toggleable__control:checked~div.sk-toggleable__content {max-height: 200px;max-width: 100%;overflow: auto;}#sk-container-id-1 input.sk-toggleable__control:checked~label.sk-toggleable__label-arrow:before {content: \"▾\";}#sk-container-id-1 div.sk-estimator input.sk-toggleable__control:checked~label.sk-toggleable__label {background-color: #d4ebff;}#sk-container-id-1 div.sk-label input.sk-toggleable__control:checked~label.sk-toggleable__label {background-color: #d4ebff;}#sk-container-id-1 input.sk-hidden--visually {border: 0;clip: rect(1px 1px 1px 1px);clip: rect(1px, 1px, 1px, 1px);height: 1px;margin: -1px;overflow: hidden;padding: 0;position: absolute;width: 1px;}#sk-container-id-1 div.sk-estimator {font-family: monospace;background-color: #f0f8ff;border: 1px dotted black;border-radius: 0.25em;box-sizing: border-box;margin-bottom: 0.5em;}#sk-container-id-1 div.sk-estimator:hover {background-color: #d4ebff;}#sk-container-id-1 div.sk-parallel-item::after {content: \"\";width: 100%;border-bottom: 1px solid gray;flex-grow: 1;}#sk-container-id-1 div.sk-label:hover label.sk-toggleable__label {background-color: #d4ebff;}#sk-container-id-1 div.sk-serial::before {content: \"\";position: absolute;border-left: 1px solid gray;box-sizing: border-box;top: 0;bottom: 0;left: 50%;z-index: 0;}#sk-container-id-1 div.sk-serial {display: flex;flex-direction: column;align-items: center;background-color: white;padding-right: 0.2em;padding-left: 0.2em;position: relative;}#sk-container-id-1 div.sk-item {position: relative;z-index: 1;}#sk-container-id-1 div.sk-parallel {display: flex;align-items: stretch;justify-content: center;background-color: white;position: relative;}#sk-container-id-1 div.sk-item::before, #sk-container-id-1 div.sk-parallel-item::before {content: \"\";position: absolute;border-left: 1px solid gray;box-sizing: border-box;top: 0;bottom: 0;left: 50%;z-index: -1;}#sk-container-id-1 div.sk-parallel-item {display: flex;flex-direction: column;z-index: 1;position: relative;background-color: white;}#sk-container-id-1 div.sk-parallel-item:first-child::after {align-self: flex-end;width: 50%;}#sk-container-id-1 div.sk-parallel-item:last-child::after {align-self: flex-start;width: 50%;}#sk-container-id-1 div.sk-parallel-item:only-child::after {width: 0;}#sk-container-id-1 div.sk-dashed-wrapped {border: 1px dashed gray;margin: 0 0.4em 0.5em 0.4em;box-sizing: border-box;padding-bottom: 0.4em;background-color: white;}#sk-container-id-1 div.sk-label label {font-family: monospace;font-weight: bold;display: inline-block;line-height: 1.2em;}#sk-container-id-1 div.sk-label-container {text-align: center;}#sk-container-id-1 div.sk-container {/* jupyter's `normalize.less` sets `[hidden] { display: none; }` but bootstrap.min.css set `[hidden] { display: none !important; }` so we also need the `!important` here to be able to override the default hidden behavior on the sphinx rendered scikit-learn.org. See: https://github.com/scikit-learn/scikit-learn/issues/21755 */display: inline-block !important;position: relative;}#sk-container-id-1 div.sk-text-repr-fallback {display: none;}</style><div id=\"sk-container-id-1\" class=\"sk-top-container\"><div class=\"sk-text-repr-fallback\"><pre>MiniBatchKMeans(n_clusters=5, random_state=1000)</pre><b>In a Jupyter environment, please rerun this cell to show the HTML representation or trust the notebook. <br />On GitHub, the HTML representation is unable to render, please try loading this page with nbviewer.org.</b></div><div class=\"sk-container\" hidden><div class=\"sk-item\"><div class=\"sk-estimator sk-toggleable\"><input class=\"sk-toggleable__control sk-hidden--visually\" id=\"sk-estimator-id-1\" type=\"checkbox\" checked><label for=\"sk-estimator-id-1\" class=\"sk-toggleable__label sk-toggleable__label-arrow\">MiniBatchKMeans</label><div class=\"sk-toggleable__content\"><pre>MiniBatchKMeans(n_clusters=5, random_state=1000)</pre></div></div></div></div></div>"
      ],
      "text/plain": [
       "MiniBatchKMeans(n_clusters=5, random_state=1000)"
      ]
     },
     "execution_count": 14,
     "metadata": {},
     "output_type": "execute_result"
    }
   ],
   "source": [
    "cls = MiniBatchKMeans(n_clusters=5, random_state=1000)\n",
    "cls.fit(features)"
   ]
  },
  {
   "cell_type": "code",
   "execution_count": 15,
   "metadata": {},
   "outputs": [
    {
     "data": {
      "text/plain": [
       "array([3, 3, 3, ..., 3, 1, 3])"
      ]
     },
     "execution_count": 15,
     "metadata": {},
     "output_type": "execute_result"
    }
   ],
   "source": [
    "# predict cluster labels for new dataset\n",
    "cls.predict(features)"
   ]
  },
  {
   "cell_type": "code",
   "execution_count": 16,
   "metadata": {},
   "outputs": [
    {
     "data": {
      "text/plain": [
       "array([3, 3, 3, 4, 3, 3, 4, 4, 3, 3, 0, 3, 3, 4, 1, 3, 3, 0, 4, 0])"
      ]
     },
     "execution_count": 16,
     "metadata": {},
     "output_type": "execute_result"
    }
   ],
   "source": [
    "# to get cluster labels for the dataset used while\n",
    "# training the model (used for models that does not\n",
    "# support prediction on new dataset).\n",
    "cls.labels_[:20]"
   ]
  },
  {
   "cell_type": "code",
   "execution_count": 17,
   "metadata": {},
   "outputs": [
    {
     "data": {
      "text/plain": [
       "array([[2.42932550e-04, 1.22418555e-02, 0.00000000e+00, ...,\n",
       "        0.00000000e+00, 0.00000000e+00, 0.00000000e+00],\n",
       "       [8.20229657e-05, 6.02610619e-03, 0.00000000e+00, ...,\n",
       "        3.96412706e-04, 0.00000000e+00, 9.39894072e-04],\n",
       "       [0.00000000e+00, 1.31821650e-02, 0.00000000e+00, ...,\n",
       "        0.00000000e+00, 0.00000000e+00, 0.00000000e+00],\n",
       "       [8.04485199e-05, 7.59453461e-03, 0.00000000e+00, ...,\n",
       "        0.00000000e+00, 2.66555754e-04, 0.00000000e+00],\n",
       "       [1.64384824e-04, 9.62889405e-03, 8.84155599e-05, ...,\n",
       "        0.00000000e+00, 1.90232766e-04, 0.00000000e+00]])"
      ]
     },
     "execution_count": 17,
     "metadata": {},
     "output_type": "execute_result"
    }
   ],
   "source": [
    "cls.cluster_centers_"
   ]
  },
  {
   "cell_type": "code",
   "execution_count": 18,
   "metadata": {},
   "outputs": [
    {
     "data": {
      "text/plain": [
       "(5, 29126)"
      ]
     },
     "execution_count": 18,
     "metadata": {},
     "output_type": "execute_result"
    }
   ],
   "source": [
    "len(cls.cluster_centers_) , len(cls.cluster_centers_[0])"
   ]
  },
  {
   "cell_type": "code",
   "execution_count": 20,
   "metadata": {},
   "outputs": [
    {
     "data": {
      "text/plain": [
       "array([[-0.04277219,  0.06662464],\n",
       "       [-0.07835577, -0.13051088],\n",
       "       [-0.07326799,  0.26373002],\n",
       "       ...,\n",
       "       [-0.05109815,  0.19521583],\n",
       "       [-0.07536488, -0.04117384],\n",
       "       [-0.04190159, -0.06617138]])"
      ]
     },
     "execution_count": 20,
     "metadata": {},
     "output_type": "execute_result"
    }
   ],
   "source": [
    "# reduce the features to 2D\n",
    "pca = PCA(n_components=2, random_state=100)\n",
    "reduced_features = pca.fit_transform(features.toarray())\n",
    "reduced_features"
   ]
  },
  {
   "cell_type": "code",
   "execution_count": 21,
   "metadata": {},
   "outputs": [
    {
     "data": {
      "text/plain": [
       "(2225, 2)"
      ]
     },
     "execution_count": 21,
     "metadata": {},
     "output_type": "execute_result"
    }
   ],
   "source": [
    "len(reduced_features) , len(reduced_features[0]) "
   ]
  },
  {
   "cell_type": "code",
   "execution_count": 22,
   "metadata": {},
   "outputs": [
    {
     "data": {
      "text/plain": [
       "array([[ 0.23762478, -0.04634145],\n",
       "       [-0.07136293, -0.04750129],\n",
       "       [ 0.00253783,  0.10275372],\n",
       "       [-0.04938397, -0.00269329],\n",
       "       [-0.00332898,  0.01009742]])"
      ]
     },
     "execution_count": 22,
     "metadata": {},
     "output_type": "execute_result"
    }
   ],
   "source": [
    "# reduce the cluster centers to 2D\n",
    "reduced_cluster_centers = pca.transform(cls.cluster_centers_)\n",
    "reduced_cluster_centers"
   ]
  },
  {
   "cell_type": "code",
   "execution_count": 23,
   "metadata": {},
   "outputs": [
    {
     "data": {
      "text/plain": [
       "<matplotlib.collections.PathCollection at 0x2927d11fcd0>"
      ]
     },
     "execution_count": 23,
     "metadata": {},
     "output_type": "execute_result"
    },
    {
     "data": {
      "image/png": "[encoded data removed]",
      "text/plain": [
       "<Figure size 640x480 with 1 Axes>"
      ]
     },
     "metadata": {},
     "output_type": "display_data"
    }
   ],
   "source": [
    "plt.scatter(reduced_features[:,0], reduced_features[:,1], c=cls.predict(features))\n",
    "plt.scatter(reduced_cluster_centers[:, 0], reduced_cluster_centers[:,1], marker='x', s=150, c='b')\n"
   ]
  },
  {
   "cell_type": "code",
   "execution_count": 24,
   "metadata": {},
   "outputs": [
    {
     "data": {
      "text/plain": [
       "0.4705423858556445"
      ]
     },
     "execution_count": 24,
     "metadata": {},
     "output_type": "execute_result"
    }
   ],
   "source": [
    "from sklearn.metrics import homogeneity_score\n",
    "homogeneity_score(df.label, cls.predict(features))\n"
   ]
  },
  {
   "cell_type": "code",
   "execution_count": 25,
   "metadata": {},
   "outputs": [
    {
     "data": {
      "text/plain": [
       "array([4])"
      ]
     },
     "execution_count": 25,
     "metadata": {},
     "output_type": "execute_result"
    }
   ],
   "source": [
    "cls.predict(vec.transform(['president']))"
   ]
  },
  {
   "cell_type": "code",
   "execution_count": 26,
   "metadata": {},
   "outputs": [
    {
     "data": {
      "text/plain": [
       "array([3])"
      ]
     },
     "execution_count": 26,
     "metadata": {},
     "output_type": "execute_result"
    }
   ],
   "source": [
    "cls.predict(vec.transform(['music']))"
   ]
  },
  {
   "cell_type": "code",
   "execution_count": 27,
   "metadata": {},
   "outputs": [
    {
     "data": {
      "text/plain": [
       "array([3])"
      ]
     },
     "execution_count": 27,
     "metadata": {},
     "output_type": "execute_result"
    }
   ],
   "source": [
    "cls.predict(vec.transform(['game']))"
   ]
  },
  {
   "cell_type": "code",
   "execution_count": 28,
   "metadata": {},
   "outputs": [
    {
     "data": {
      "text/plain": [
       "array([1])"
      ]
     },
     "execution_count": 28,
     "metadata": {},
     "output_type": "execute_result"
    }
   ],
   "source": [
    "cls.predict(vec.transform(['festival']))"
   ]
  },
  {
   "cell_type": "code",
   "execution_count": 29,
   "metadata": {},
   "outputs": [
    {
     "data": {
      "text/plain": [
       "array([4])"
      ]
     },
     "execution_count": 29,
     "metadata": {},
     "output_type": "execute_result"
    }
   ],
   "source": [
    "cls.predict(vec.transform(['talks']))"
   ]
  },
  {
   "cell_type": "code",
   "execution_count": null,
   "metadata": {},
   "outputs": [],
   "source": []
  }
 ],
 "metadata": {
  "kernelspec": {
   "display_name": "Python 3",
   "language": "python",
   "name": "python3"
  },
  "language_info": {
   "codemirror_mode": {
    "name": "ipython",
    "version": 3
   },
   "file_extension": ".py",
   "mimetype": "text/x-python",
   "name": "python",
   "nbconvert_exporter": "python",
   "pygments_lexer": "ipython3",
   "version": "3.11.2"
  }
 },
 "nbformat": 4,
 "nbformat_minor": 4
}
